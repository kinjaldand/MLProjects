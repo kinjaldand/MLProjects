{
 "cells": [
  {
   "cell_type": "code",
   "execution_count": null,
   "metadata": {
    "collapsed": true
   },
   "outputs": [],
   "source": [
    "#imports\n",
    "import pandas as pd\n",
    "import numpy as np"
   ]
  },
  {
   "cell_type": "markdown",
   "metadata": {},
   "source": [
    "Get Data from external sources"
   ]
  },
  {
   "cell_type": "code",
   "execution_count": null,
   "metadata": {},
   "outputs": [],
   "source": [
    "from sklearn import datasets\n",
    "iris = datasets.load_iris()\n",
    "print(type(iris))\n",
    "X, y = iris.data, iris.target"
   ]
  },
  {
   "cell_type": "code",
   "execution_count": 72,
   "metadata": {},
   "outputs": [],
   "source": [
    "def fnHandleMsg(msg,msgType=\"\"):\n",
    "    print(msg)\n",
    "\n",
    "\n",
    "def fnAssignColnames(df,colNames=None):\n",
    "    if colNames is not None and len(colNames)==len(df.columns):\n",
    "        df.columns=colNames\n",
    "\n",
    "    return df\n",
    "\n",
    "    \n",
    "    \n",
    "def fnCreatePdFrameFromArray(arrayTuple,colNames=None):\n",
    "    #return pd.DataFrame(np.column_stack(arrayTuple))\n",
    "    df=None\n",
    "    for a in arrayTuple:\n",
    "        if len(a.shape)==1:\n",
    "            n=pd.Series(a)\n",
    "        else:\n",
    "            n=pd.DataFrame(a)\n",
    "        if df is None:\n",
    "            df=pd.DataFrame(n)\n",
    "        else:\n",
    "            df=pd.concat([df,n],axis=1)\n",
    "\n",
    "    return df\n",
    "\n",
    "def fnGetDf(data,colNames=None):\n",
    "    df=fnCreatePdFrameFromArray(data,colNames)\n",
    "    df=fnAssignColnames(df,colNames)\n",
    "    return df\n",
    "                        \n",
    "def fnFilterMissingValues(df):\n",
    "    missingValues=df.isnull().sum(axis=1)\n",
    "    missingValuesCount=sum(missingValues>0)\n",
    "    fnHandleMsg(\"No. of Missing Values in DF : \"+str(missingValuesCount))\n",
    "    df=df.dropna()\n",
    "    return df,missingValuesCount\n",
    "\n",
    "def fnGetUniqueValLenColumns(df):\n",
    "    iDfLen=len(df)\n",
    "    lUniqueValCount=[]\n",
    "    for col in df.columns:\n",
    "        iUniqueValLen=len(np.unique(df[col]))\n",
    "        lUniqueValCount.append(iUniqueValLen)\n",
    "        \n",
    "    return lUniqueValCount\n",
    "\n",
    "\n",
    "def fnNormalizeCols(df,colNames):\n",
    "    fnHandleMsg(\"Normalizing Values in DF for columns: \"+str(colNames))\n",
    "    from sklearn import preprocessing\n",
    "    dfNew = pd.DataFrame(df[colNames])\n",
    "    min_max_scaler = preprocessing.MinMaxScaler()\n",
    "    np_scaled = min_max_scaler.fit_transform(dfNew)\n",
    "    df_normalized = pd.DataFrame(np_scaled)\n",
    "    df_normalized.columns=colNames\n",
    "    df[colNames]=df_normalized\n",
    "    #for col in colNames:\n",
    "        #df[col]=df_normalized[col]\n",
    "        \n",
    "    return df\n",
    "\n",
    "def fnPlotCols(df,colNames=None,num_bins=50):\n",
    "    import matplotlib.pyplot as plt\n",
    "\n",
    "    if colNames is None:\n",
    "        colNames=df.columns\n",
    "        \n",
    "    for colName in colNames:\n",
    "        colData=df[colName]\n",
    "        fnPlotHistogram(colData,colName)\n",
    "        fnPlotBoxplot(colData,colName)\n",
    "        \n",
    "\n",
    "def fnPlotHistogram(colData,colName,num_bins=50):\n",
    "    mu=np.mean(colData)\n",
    "    sigma=np.std(colData)\n",
    "\n",
    "\n",
    "    fig, ax = plt.subplots()\n",
    "\n",
    "    # the histogram of the data\n",
    "    n, bins, patches = ax.hist(colData, num_bins, normed=True)\n",
    "\n",
    "    # add a 'best fit' line\n",
    "    y = ((1 / (np.sqrt(2 * np.pi) * sigma)) *np.exp(-0.5 * (1 / sigma * (bins - mu))**2))\n",
    "    ax.plot(bins, y, '--')\n",
    "    ax.set_xlabel('Smarts')\n",
    "    ax.set_ylabel('Probability density')\n",
    "    ax.set_title(r'Histogram of {0}: mu={1}, sigma={2}'.format(colName,mu,sigma))\n",
    "\n",
    "    # Tweak spacing to prevent clipping of ylabel\n",
    "    fig.tight_layout()\n",
    "    plt.show()\n",
    "\n",
    "def fnPlotBoxplot(colData,colName):\n",
    "    colData=df[colName]\n",
    "    fig1, ax1 = plt.subplots()\n",
    "    ax1.set_title(r'Box Plot of {0}'.format(colName))\n",
    "    ax1.boxplot(colData)\n",
    "\n",
    "    # Tweak spacing to prevent clipping of ylabel\n",
    "    fig.tight_layout()\n",
    "    plt.show()\n",
    "    \n",
    "    \n",
    "def GetkFoldedTrainValTest(df,nFolds=5,valPer=20,testPer=20,randomstate=300,seed=200):    \n",
    "    from sklearn.model_selection import KFold\n",
    "    kf = KFold(n_splits=nFolds,shuffle=True,random_state=randomstate)\n",
    "    \"\"\"\n",
    "    np.random.seed(seed)\n",
    "    perm = np.random.permutation(df.index)\n",
    "    df=df.loc[perm]\n",
    "    df.reset_index(inplace=True)\n",
    "    \"\"\"\n",
    "    nSet=0\n",
    "    for train_index, test_index in kf.split(df):\n",
    "        tempDF=df.iloc[train_index]\n",
    "        testDF=df.iloc[test_index]\n",
    "        kf2 = KFold(n_splits=2,random_state=randomstate)\n",
    "        for train_index, val_index in kf2.split(tempDF):\n",
    "            trainDF=tempDF.iloc[train_index]\n",
    "            valDF=tempDF.iloc[val_index]\n",
    "            nSet+=1\n",
    "            print(\"----------Set : {0}---------\".format(nSet))\n",
    "            \n",
    "            print(test_index)\n",
    "            print(train_index)\n",
    "            print(val_index)\n",
    "            \n",
    "     \n",
    "            \n",
    "    \n"
   ]
  },
  {
   "cell_type": "markdown",
   "metadata": {},
   "source": [
    "Convert Data into Pandas Dataframe"
   ]
  },
  {
   "cell_type": "code",
   "execution_count": 62,
   "metadata": {},
   "outputs": [
    {
     "name": "stdout",
     "output_type": "stream",
     "text": [
      "    SL   SH   PL   PH  fType\n",
      "0  5.1  3.5  1.4  0.2      0\n",
      "1  4.9  3.0  1.4  0.2      0\n",
      "2  4.7  3.2  1.3  0.2      0\n",
      "3  4.6  3.1  1.5  0.2      0\n",
      "4  5.0  3.6  1.4  0.2      0\n"
     ]
    }
   ],
   "source": [
    "outputVarName='fType'\n",
    "df=fnGetDf((X,y),(\"SL\",\"SH\",\"PL\",\"PH\",outputVarName))\n",
    "\n",
    "print(df.head())"
   ]
  },
  {
   "cell_type": "markdown",
   "metadata": {},
   "source": [
    "DataSet Exploration"
   ]
  },
  {
   "cell_type": "code",
   "execution_count": null,
   "metadata": {},
   "outputs": [],
   "source": [
    "print(df.describe())"
   ]
  },
  {
   "cell_type": "code",
   "execution_count": null,
   "metadata": {},
   "outputs": [],
   "source": [
    "df,missingValuesCount=fnFilterMissingValues(df)"
   ]
  },
  {
   "cell_type": "code",
   "execution_count": null,
   "metadata": {},
   "outputs": [],
   "source": [
    "lUniqueValCount=fnGetUniqueValLenColumns(df)\n",
    "print(list(zip(lUniqueValCount,df.dtypes)))"
   ]
  },
  {
   "cell_type": "code",
   "execution_count": null,
   "metadata": {},
   "outputs": [],
   "source": [
    "print(df.describe())\n",
    "colNames=[\"SH\",\"SL\",\"PL\",\"PH\"]\n",
    "df=fnNormalizeCols(df,colNames)\n",
    "print(df.describe())"
   ]
  },
  {
   "cell_type": "code",
   "execution_count": 47,
   "metadata": {},
   "outputs": [],
   "source": [
    "#fnPlotCols(df,colNames)"
   ]
  },
  {
   "cell_type": "code",
   "execution_count": 73,
   "metadata": {},
   "outputs": [
    {
     "name": "stdout",
     "output_type": "stream",
     "text": [
      "2    50\n",
      "1    50\n",
      "0    50\n",
      "Name: fType, dtype: int64\n",
      "----------Set : 1---------\n",
      "[  6   7  12  14  15  19  20  22  27  30  39  45  49  63  65  72  73  75\n",
      "  81  87  90 106 112 117 120 124 134 135 143 148]\n",
      "[ 60  61  62  63  64  65  66  67  68  69  70  71  72  73  74  75  76  77\n",
      "  78  79  80  81  82  83  84  85  86  87  88  89  90  91  92  93  94  95\n",
      "  96  97  98  99 100 101 102 103 104 105 106 107 108 109 110 111 112 113\n",
      " 114 115 116 117 118 119]\n",
      "[ 0  1  2  3  4  5  6  7  8  9 10 11 12 13 14 15 16 17 18 19 20 21 22 23\n",
      " 24 25 26 27 28 29 30 31 32 33 34 35 36 37 38 39 40 41 42 43 44 45 46 47\n",
      " 48 49 50 51 52 53 54 55 56 57 58 59]\n",
      "----------Set : 2---------\n",
      "[  6   7  12  14  15  19  20  22  27  30  39  45  49  63  65  72  73  75\n",
      "  81  87  90 106 112 117 120 124 134 135 143 148]\n",
      "[ 0  1  2  3  4  5  6  7  8  9 10 11 12 13 14 15 16 17 18 19 20 21 22 23\n",
      " 24 25 26 27 28 29 30 31 32 33 34 35 36 37 38 39 40 41 42 43 44 45 46 47\n",
      " 48 49 50 51 52 53 54 55 56 57 58 59]\n",
      "[ 60  61  62  63  64  65  66  67  68  69  70  71  72  73  74  75  76  77\n",
      "  78  79  80  81  82  83  84  85  86  87  88  89  90  91  92  93  94  95\n",
      "  96  97  98  99 100 101 102 103 104 105 106 107 108 109 110 111 112 113\n",
      " 114 115 116 117 118 119]\n",
      "----------Set : 3---------\n",
      "[ 11  17  21  29  31  34  51  52  54  56  62  69  78  80  82  83  84  92\n",
      " 102 119 122 123 125 127 128 130 133 136 138 146]\n",
      "[ 60  61  62  63  64  65  66  67  68  69  70  71  72  73  74  75  76  77\n",
      "  78  79  80  81  82  83  84  85  86  87  88  89  90  91  92  93  94  95\n",
      "  96  97  98  99 100 101 102 103 104 105 106 107 108 109 110 111 112 113\n",
      " 114 115 116 117 118 119]\n",
      "[ 0  1  2  3  4  5  6  7  8  9 10 11 12 13 14 15 16 17 18 19 20 21 22 23\n",
      " 24 25 26 27 28 29 30 31 32 33 34 35 36 37 38 39 40 41 42 43 44 45 46 47\n",
      " 48 49 50 51 52 53 54 55 56 57 58 59]\n",
      "----------Set : 4---------\n",
      "[ 11  17  21  29  31  34  51  52  54  56  62  69  78  80  82  83  84  92\n",
      " 102 119 122 123 125 127 128 130 133 136 138 146]\n",
      "[ 0  1  2  3  4  5  6  7  8  9 10 11 12 13 14 15 16 17 18 19 20 21 22 23\n",
      " 24 25 26 27 28 29 30 31 32 33 34 35 36 37 38 39 40 41 42 43 44 45 46 47\n",
      " 48 49 50 51 52 53 54 55 56 57 58 59]\n",
      "[ 60  61  62  63  64  65  66  67  68  69  70  71  72  73  74  75  76  77\n",
      "  78  79  80  81  82  83  84  85  86  87  88  89  90  91  92  93  94  95\n",
      "  96  97  98  99 100 101 102 103 104 105 106 107 108 109 110 111 112 113\n",
      " 114 115 116 117 118 119]\n",
      "----------Set : 5---------\n",
      "[  1   3   4   8  18  32  35  38  42  46  47  48  50  53  58  61  66  67\n",
      "  68  86  96 100 104 109 111 116 121 126 144 145]\n",
      "[ 60  61  62  63  64  65  66  67  68  69  70  71  72  73  74  75  76  77\n",
      "  78  79  80  81  82  83  84  85  86  87  88  89  90  91  92  93  94  95\n",
      "  96  97  98  99 100 101 102 103 104 105 106 107 108 109 110 111 112 113\n",
      " 114 115 116 117 118 119]\n",
      "[ 0  1  2  3  4  5  6  7  8  9 10 11 12 13 14 15 16 17 18 19 20 21 22 23\n",
      " 24 25 26 27 28 29 30 31 32 33 34 35 36 37 38 39 40 41 42 43 44 45 46 47\n",
      " 48 49 50 51 52 53 54 55 56 57 58 59]\n",
      "----------Set : 6---------\n",
      "[  1   3   4   8  18  32  35  38  42  46  47  48  50  53  58  61  66  67\n",
      "  68  86  96 100 104 109 111 116 121 126 144 145]\n",
      "[ 0  1  2  3  4  5  6  7  8  9 10 11 12 13 14 15 16 17 18 19 20 21 22 23\n",
      " 24 25 26 27 28 29 30 31 32 33 34 35 36 37 38 39 40 41 42 43 44 45 46 47\n",
      " 48 49 50 51 52 53 54 55 56 57 58 59]\n",
      "[ 60  61  62  63  64  65  66  67  68  69  70  71  72  73  74  75  76  77\n",
      "  78  79  80  81  82  83  84  85  86  87  88  89  90  91  92  93  94  95\n",
      "  96  97  98  99 100 101 102 103 104 105 106 107 108 109 110 111 112 113\n",
      " 114 115 116 117 118 119]\n",
      "----------Set : 7---------\n",
      "[  0   2   5  10  13  23  25  26  28  33  37  40  43  55  70  79  85  88\n",
      "  95  97  99 110 113 115 129 132 137 139 142 147]\n",
      "[ 60  61  62  63  64  65  66  67  68  69  70  71  72  73  74  75  76  77\n",
      "  78  79  80  81  82  83  84  85  86  87  88  89  90  91  92  93  94  95\n",
      "  96  97  98  99 100 101 102 103 104 105 106 107 108 109 110 111 112 113\n",
      " 114 115 116 117 118 119]\n",
      "[ 0  1  2  3  4  5  6  7  8  9 10 11 12 13 14 15 16 17 18 19 20 21 22 23\n",
      " 24 25 26 27 28 29 30 31 32 33 34 35 36 37 38 39 40 41 42 43 44 45 46 47\n",
      " 48 49 50 51 52 53 54 55 56 57 58 59]\n",
      "----------Set : 8---------\n",
      "[  0   2   5  10  13  23  25  26  28  33  37  40  43  55  70  79  85  88\n",
      "  95  97  99 110 113 115 129 132 137 139 142 147]\n",
      "[ 0  1  2  3  4  5  6  7  8  9 10 11 12 13 14 15 16 17 18 19 20 21 22 23\n",
      " 24 25 26 27 28 29 30 31 32 33 34 35 36 37 38 39 40 41 42 43 44 45 46 47\n",
      " 48 49 50 51 52 53 54 55 56 57 58 59]\n",
      "[ 60  61  62  63  64  65  66  67  68  69  70  71  72  73  74  75  76  77\n",
      "  78  79  80  81  82  83  84  85  86  87  88  89  90  91  92  93  94  95\n",
      "  96  97  98  99 100 101 102 103 104 105 106 107 108 109 110 111 112 113\n",
      " 114 115 116 117 118 119]\n",
      "----------Set : 9---------\n",
      "[  9  16  24  36  41  44  57  59  60  64  71  74  76  77  89  91  93  94\n",
      "  98 101 103 105 107 108 114 118 131 140 141 149]\n",
      "[ 60  61  62  63  64  65  66  67  68  69  70  71  72  73  74  75  76  77\n",
      "  78  79  80  81  82  83  84  85  86  87  88  89  90  91  92  93  94  95\n",
      "  96  97  98  99 100 101 102 103 104 105 106 107 108 109 110 111 112 113\n",
      " 114 115 116 117 118 119]\n",
      "[ 0  1  2  3  4  5  6  7  8  9 10 11 12 13 14 15 16 17 18 19 20 21 22 23\n",
      " 24 25 26 27 28 29 30 31 32 33 34 35 36 37 38 39 40 41 42 43 44 45 46 47\n",
      " 48 49 50 51 52 53 54 55 56 57 58 59]\n",
      "----------Set : 10---------\n",
      "[  9  16  24  36  41  44  57  59  60  64  71  74  76  77  89  91  93  94\n",
      "  98 101 103 105 107 108 114 118 131 140 141 149]\n",
      "[ 0  1  2  3  4  5  6  7  8  9 10 11 12 13 14 15 16 17 18 19 20 21 22 23\n",
      " 24 25 26 27 28 29 30 31 32 33 34 35 36 37 38 39 40 41 42 43 44 45 46 47\n",
      " 48 49 50 51 52 53 54 55 56 57 58 59]\n",
      "[ 60  61  62  63  64  65  66  67  68  69  70  71  72  73  74  75  76  77\n",
      "  78  79  80  81  82  83  84  85  86  87  88  89  90  91  92  93  94  95\n",
      "  96  97  98  99 100 101 102 103 104 105 106 107 108 109 110 111 112 113\n",
      " 114 115 116 117 118 119]\n"
     ]
    }
   ],
   "source": [
    "print(df[outputVarName].value_counts())\n",
    "GetkFoldedTrainValTest(df)"
   ]
  },
  {
   "cell_type": "code",
   "execution_count": null,
   "metadata": {
    "collapsed": true
   },
   "outputs": [],
   "source": []
  }
 ],
 "metadata": {
  "kernelspec": {
   "display_name": "Python 3",
   "language": "python",
   "name": "python3"
  },
  "language_info": {
   "codemirror_mode": {
    "name": "ipython",
    "version": 3
   },
   "file_extension": ".py",
   "mimetype": "text/x-python",
   "name": "python",
   "nbconvert_exporter": "python",
   "pygments_lexer": "ipython3",
   "version": "3.6.1"
  }
 },
 "nbformat": 4,
 "nbformat_minor": 2
}
