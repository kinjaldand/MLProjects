{
 "cells": [
  {
   "cell_type": "markdown",
   "metadata": {},
   "source": [
    "# Credit Card Fraud Detection\n",
    "\n",
    "Problem Description: Given a credit card transaction, determine if transaction is Genuine or Fraud.\n",
    "\n",
    "Data Source: https://www.kaggle.com/mlg-ulb/creditcardfraud/home \n",
    "\n",
    "ML Challenge: Anamoly Detection, Highly Skewed Dataset\n",
    "        "
   ]
  },
  {
   "cell_type": "code",
   "execution_count": 29,
   "metadata": {},
   "outputs": [],
   "source": [
    "#imports\n",
    "import pandas as pd\n",
    "import math\n",
    "import numpy as np\n",
    "import MyUtils as myutils\n",
    "import matplotlib.pyplot as plt\n",
    "import matplotlib.gridspec as gridspec\n",
    "import seaborn as sns\n",
    "from scipy.stats import multivariate_normal\n",
    "from sklearn.metrics import f1_score\n",
    "\n",
    "%matplotlib inline"
   ]
  },
  {
   "cell_type": "code",
   "execution_count": 30,
   "metadata": {},
   "outputs": [
    {
     "name": "stdout",
     "output_type": "stream",
     "text": [
      "Index(['Time', 'V1', 'V2', 'V3', 'V4', 'V5', 'V6', 'V7', 'V8', 'V9', 'V10',\n",
      "       'V11', 'V12', 'V13', 'V14', 'V15', 'V16', 'V17', 'V18', 'V19', 'V20',\n",
      "       'V21', 'V22', 'V23', 'V24', 'V25', 'V26', 'V27', 'V28', 'Amount',\n",
      "       'Class'],\n",
      "      dtype='object')\n",
      "0    284315\n",
      "1       492\n",
      "Name: Class, dtype: int64\n"
     ]
    }
   ],
   "source": [
    "#Read Dataset\n",
    "dfAll=pd.read_csv(\"creditcard.csv\")\n",
    "print(dfAll.columns)\n",
    "print(dfAll['Class'].value_counts())"
   ]
  },
  {
   "cell_type": "markdown",
   "metadata": {},
   "source": [
    "<u>Observations</u>\n",
    "\n",
    "1. Dataset is highly skewed with only 0.172 Fraud Transactions\n",
    "2. Features: V1-V28 are PCA Output; Amount and Time \n",
    "\n",
    "This means we will be able to do very limited feature engg.!!\n",
    "\n",
    "1. To begin with lets explore PCA outputs for both Classes"
   ]
  },
  {
   "cell_type": "code",
   "execution_count": null,
   "metadata": {},
   "outputs": [],
   "source": [
    "plt.figure(figsize=(12,8*4))\n",
    "gs = gridspec.GridSpec(8, 4)\n",
    "for i, cn in enumerate(dfAll):\n",
    "    if cn==\"Class\":\n",
    "        continue\n",
    "    ax = plt.subplot(gs[i])\n",
    "    sns.distplot(dfAll[cn][dfAll['Class']==0], bins=50)\n",
    "    sns.distplot(dfAll[cn][dfAll['Class']==1], bins=50)\n",
    "    ax.set_xlabel('')\n",
    "    ax.set_title('feature: ' + str(cn))\n",
    "plt.show()"
   ]
  },
  {
   "cell_type": "markdown",
   "metadata": {},
   "source": [
    "The above results show that many of later features are very similar(mean and stddev) for both classes and hence may not contribute much to ml.\n",
    "Hence removing them."
   ]
  },
  {
   "cell_type": "code",
   "execution_count": 31,
   "metadata": {},
   "outputs": [],
   "source": [
    "dropCols=['Time','V13','V15','V21','V22','V23','V24','V25','V26','V27','V28']\n",
    "\n",
    "dfAll=dfAll.drop(['Time'],axis=1) #Not useful in this particular analysis\n"
   ]
  },
  {
   "cell_type": "markdown",
   "metadata": {},
   "source": [
    "## Lets Define Some necessary Functions"
   ]
  },
  {
   "cell_type": "code",
   "execution_count": 32,
   "metadata": {},
   "outputs": [],
   "source": [
    "def plotProbs(X_val,y_val,col):\n",
    "\tdfNormal=X_val[y_val==0]\n",
    "\tdfFraud=X_val[y_val==1]\n",
    "\timport seaborn as sns\n",
    "\timport matplotlib.gridspec as gridspec\n",
    "\tgs = gridspec.GridSpec(1, 2)\n",
    "\tplt.figure(figsize=(7,5))\n",
    "\tax = plt.subplot(gs[0])\n",
    "\tax.set_title(col+' Distribution for normal')\n",
    "\tsns.distplot(dfNormal[col], bins=50)\n",
    "\tax = plt.subplot(gs[1])\n",
    "\tax.set_title(col+' Distribution for  fraud')\n",
    "\tsns.distplot(dfFraud[col], bins=50)\n",
    "\t#ax.set_xlabel('')\n",
    "\t\n",
    "\tplt.show()\n",
    "\n",
    "\n",
    "\n",
    "def feature_normalize(dataset):\n",
    "    #mu = np.mean(dataset,axis=0)\n",
    "    #sigma = np.std(dataset,axis=0)\n",
    "    mu=np.min(dataset,axis=0)\n",
    "    sigma=np.max(dataset,axis=0)-np.min(dataset,axis=0)\n",
    "\t\n",
    "    return (dataset - mu)/sigma\n",
    "\n",
    "def estimateGaussian(dataset):\n",
    "    mu = np.mean(dataset, axis=0)\n",
    "    sigma = np.cov(dataset.T)\n",
    "    return mu, sigma\n",
    "    \n",
    "def multivariateGaussian(dataset,mu,sigma):\n",
    "    p = multivariate_normal(mean=mu, cov=sigma)\n",
    "    return p.pdf(dataset)\n",
    "\n",
    "\n",
    "def getMeanStdProb(df,mu=None,sigma=None):\n",
    "\tif mu is None:\n",
    "\t\tmu, sigma=estimateGaussian(df)\n",
    "\t\t\n",
    "\tdf['prob']=multivariateGaussian(df,mu,sigma)\n",
    "\treturn df,mu, sigma\n",
    "\n",
    "\n",
    "def selectThresholdByCV(probs,gt):\n",
    "    best_epsilon = 0\n",
    "    best_f1 = 0\n",
    "    f = 0\n",
    "    stepsize = (max(probs) - min(probs)) / 1000;\n",
    "    epsilons = np.arange(min(probs),max(probs),stepsize)\n",
    "    for epsilon in np.nditer(epsilons):\n",
    "        predictions = (probs < epsilon)\n",
    "        f = f1_score(gt, predictions, average = \"binary\")\n",
    "        if f > best_f1:\n",
    "            best_f1 = f\n",
    "            best_epsilon = epsilon\n",
    "    return best_f1, best_epsilon,epsilons"
   ]
  },
  {
   "cell_type": "markdown",
   "metadata": {},
   "source": [
    "## Split Data into Train and Test Set"
   ]
  },
  {
   "cell_type": "code",
   "execution_count": 33,
   "metadata": {},
   "outputs": [
    {
     "name": "stdout",
     "output_type": "stream",
     "text": [
      "0    1248\n",
      "1     394\n",
      "Name: Class, dtype: int64\n",
      "0    280587\n",
      "1        20\n",
      "Name: Class, dtype: int64\n"
     ]
    }
   ],
   "source": [
    "outputVarName='Class'\n",
    "crossVal=0\n",
    "X_trainVal, X_test, y_trainVal, y_test = myutils.GetTrainTest(dfAll,outputVarName)\n",
    "\n",
    "print(y_trainVal.value_counts())\n",
    "print(y_test.value_counts())"
   ]
  },
  {
   "cell_type": "markdown",
   "metadata": {},
   "source": [
    "## Split Data into Train and Val Set"
   ]
  },
  {
   "cell_type": "code",
   "execution_count": 34,
   "metadata": {},
   "outputs": [
    {
     "name": "stdout",
     "output_type": "stream",
     "text": [
      "0    998\n",
      "1    315\n",
      "Name: Class, dtype: int64\n",
      "0    250\n",
      "1     79\n",
      "Name: Class, dtype: int64\n"
     ]
    },
    {
     "name": "stderr",
     "output_type": "stream",
     "text": [
      "c:\\users\\admin\\appdata\\local\\programs\\python\\python36-32\\lib\\site-packages\\ipykernel_launcher.py:19: SettingWithCopyWarning: \n",
      "A value is trying to be set on a copy of a slice from a DataFrame.\n",
      "Try using .loc[row_indexer,col_indexer] = value instead\n",
      "\n",
      "See the caveats in the documentation: http://pandas.pydata.org/pandas-docs/stable/indexing.html#indexing-view-versus-copy\n",
      "c:\\users\\admin\\appdata\\local\\programs\\python\\python36-32\\lib\\site-packages\\ipykernel_launcher.py:20: SettingWithCopyWarning: \n",
      "A value is trying to be set on a copy of a slice from a DataFrame.\n",
      "Try using .loc[row_indexer,col_indexer] = value instead\n",
      "\n",
      "See the caveats in the documentation: http://pandas.pydata.org/pandas-docs/stable/indexing.html#indexing-view-versus-copy\n",
      "c:\\users\\admin\\appdata\\local\\programs\\python\\python36-32\\lib\\site-packages\\ipykernel_launcher.py:21: SettingWithCopyWarning: \n",
      "A value is trying to be set on a copy of a slice from a DataFrame.\n",
      "Try using .loc[row_indexer,col_indexer] = value instead\n",
      "\n",
      "See the caveats in the documentation: http://pandas.pydata.org/pandas-docs/stable/indexing.html#indexing-view-versus-copy\n"
     ]
    },
    {
     "data": {
      "image/png": "[encoded data removed]",
      "text/plain": [
       "<Figure size 504x360 with 2 Axes>"
      ]
     },
     "metadata": {
      "needs_background": "light"
     },
     "output_type": "display_data"
    },
    {
     "name": "stderr",
     "output_type": "stream",
     "text": [
      "c:\\users\\admin\\appdata\\local\\programs\\python\\python36-32\\lib\\site-packages\\sklearn\\metrics\\classification.py:1143: UndefinedMetricWarning: F-score is ill-defined and being set to 0.0 due to no predicted samples.\n",
      "  'precision', 'predicted', average, warn_for)\n"
     ]
    },
    {
     "name": "stdout",
     "output_type": "stream",
     "text": [
      "\n",
      "------Val-----\n",
      "[[0.588      0.412     ]\n",
      " [0.04060914 0.95939086]]\n",
      "0.9593908629441624 0.588\n",
      "eps : 3.7122403550093877e-09\n",
      "              precision    recall  f1-score   support\n",
      "\n",
      "      Normal       0.90      0.59      0.71       250\n",
      "       Fraud       0.79      0.96      0.86       394\n",
      "\n",
      "   micro avg       0.82      0.82      0.82       644\n",
      "   macro avg       0.84      0.77      0.79       644\n",
      "weighted avg       0.83      0.82      0.80       644\n",
      "\n",
      "[[147 103]\n",
      " [ 16 378]]\n",
      "0    998\n",
      "1    315\n",
      "Name: Class, dtype: int64\n",
      "0    250\n",
      "1     79\n",
      "Name: Class, dtype: int64\n"
     ]
    },
    {
     "data": {
      "image/png": "[encoded data removed]",
      "text/plain": [
       "<Figure size 504x360 with 2 Axes>"
      ]
     },
     "metadata": {
      "needs_background": "light"
     },
     "output_type": "display_data"
    },
    {
     "name": "stdout",
     "output_type": "stream",
     "text": [
      "\n",
      "------Val-----\n",
      "[[0.524      0.476     ]\n",
      " [0.03299492 0.96700508]]\n",
      "0.9670050761421319 0.524\n",
      "eps : 4.731770165552278e-09\n",
      "              precision    recall  f1-score   support\n",
      "\n",
      "      Normal       0.91      0.52      0.66       250\n",
      "       Fraud       0.76      0.97      0.85       394\n",
      "\n",
      "   micro avg       0.80      0.80      0.80       644\n",
      "   macro avg       0.84      0.75      0.76       644\n",
      "weighted avg       0.82      0.80      0.78       644\n",
      "\n",
      "[[131 119]\n",
      " [ 13 381]]\n",
      "0    998\n",
      "1    315\n",
      "Name: Class, dtype: int64\n",
      "0    250\n",
      "1     79\n",
      "Name: Class, dtype: int64\n"
     ]
    },
    {
     "data": {
      "image/png": "[encoded data removed]",
      "text/plain": [
       "<Figure size 504x360 with 2 Axes>"
      ]
     },
     "metadata": {
      "needs_background": "light"
     },
     "output_type": "display_data"
    },
    {
     "name": "stdout",
     "output_type": "stream",
     "text": [
      "\n",
      "------Val-----\n",
      "[[0.464      0.536     ]\n",
      " [0.02791878 0.97208122]]\n",
      "0.9720812182741116 0.464\n",
      "eps : 4.414144118817737e-09\n",
      "              precision    recall  f1-score   support\n",
      "\n",
      "      Normal       0.91      0.46      0.62       250\n",
      "       Fraud       0.74      0.97      0.84       394\n",
      "\n",
      "   micro avg       0.77      0.77      0.77       644\n",
      "   macro avg       0.83      0.72      0.73       644\n",
      "weighted avg       0.81      0.77      0.75       644\n",
      "\n",
      "[[116 134]\n",
      " [ 11 383]]\n",
      "0    999\n",
      "1    315\n",
      "Name: Class, dtype: int64\n",
      "0    249\n",
      "1     79\n",
      "Name: Class, dtype: int64\n"
     ]
    },
    {
     "data": {
      "image/png": "[encoded data removed]",
      "text/plain": [
       "<Figure size 504x360 with 2 Axes>"
      ]
     },
     "metadata": {
      "needs_background": "light"
     },
     "output_type": "display_data"
    },
    {
     "name": "stdout",
     "output_type": "stream",
     "text": [
      "\n",
      "------Val-----\n",
      "[[0.51405622 0.48594378]\n",
      " [0.04060914 0.95939086]]\n",
      "0.9593908629441624 0.5140562248995983\n",
      "eps : 3.7517982992491554e-09\n",
      "              precision    recall  f1-score   support\n",
      "\n",
      "      Normal       0.89      0.51      0.65       249\n",
      "       Fraud       0.76      0.96      0.85       394\n",
      "\n",
      "   micro avg       0.79      0.79      0.79       643\n",
      "   macro avg       0.82      0.74      0.75       643\n",
      "weighted avg       0.81      0.79      0.77       643\n",
      "\n",
      "[[128 121]\n",
      " [ 16 378]]\n",
      "0    999\n",
      "1    316\n",
      "Name: Class, dtype: int64\n",
      "0    249\n",
      "1     78\n",
      "Name: Class, dtype: int64\n"
     ]
    },
    {
     "data": {
      "image/png": "[encoded data removed]",
      "text/plain": [
       "<Figure size 504x360 with 2 Axes>"
      ]
     },
     "metadata": {
      "needs_background": "light"
     },
     "output_type": "display_data"
    },
    {
     "name": "stdout",
     "output_type": "stream",
     "text": [
      "\n",
      "------Val-----\n",
      "[[0.51004016 0.48995984]\n",
      " [0.03553299 0.96446701]]\n",
      "0.9644670050761421 0.5100401606425703\n",
      "eps : 1.681097422833287e-08\n",
      "              precision    recall  f1-score   support\n",
      "\n",
      "      Normal       0.90      0.51      0.65       249\n",
      "       Fraud       0.76      0.96      0.85       394\n",
      "\n",
      "   micro avg       0.79      0.79      0.79       643\n",
      "   macro avg       0.83      0.74      0.75       643\n",
      "weighted avg       0.81      0.79      0.77       643\n",
      "\n",
      "[[127 122]\n",
      " [ 14 380]]\n"
     ]
    }
   ],
   "source": [
    "grandRes=[]\n",
    "grandRes2=[]\t\n",
    "\t\n",
    "for X_train, X_val ,y_train, y_val in myutils.GetkFoldedTrainVal(X_trainVal,y_trainVal):\n",
    "\tcrossVal+=1\n",
    "\tprint(y_train.value_counts())\n",
    "\tprint(y_val.value_counts())\n",
    "\t\n",
    "\t#for anamoly detection prepare train dataset only on  only normal values\n",
    "\tX_val=X_val.append(X_train[y_train==1])\n",
    "\ty_val=y_val.append(y_train[y_train==1])\n",
    "\tX_train=X_train[y_train==0]\n",
    "\ty_train=y_train[y_train==0]\n",
    "\t\n",
    "\t#Now Training has only postive examples as desired for Gaussian Based ANAMOLY DETECTION\n",
    "\t\n",
    "\t\n",
    "\tdef PreprocessDataset(df):\n",
    "\t\tdf['Amount']=np.log(df['Amount']+1)\n",
    "\t\tdf['V1']=df['V1']+100\n",
    "\t\tdf['V1']=df['V1']**0.1\n",
    "\t\tdf=df+1\n",
    "\t\t\n",
    "\t\t#if dfStd is None:\n",
    "\t\t#\tdfStd=df.describe()\n",
    "\t\t\n",
    "\t\t#df2=feature_normalize(df)\n",
    "\t\t#df2=(df-dfStd.loc['mean'])/dfStd.loc['std']\n",
    "\t\t\n",
    "\t\treturn df\n",
    "\t\n",
    "\t\n",
    "\tX_train=PreprocessDataset(X_train)\n",
    "\tX_val=PreprocessDataset(X_val)\n",
    "\t\n",
    "\n",
    "\t\n",
    "\t\n",
    "\tX_train,muTrain,sigmaTrain=getMeanStdProb(X_train)\n",
    "\tX_val,dfpxVal,_=getMeanStdProb(X_val,muTrain,sigmaTrain)\n",
    "\t\n",
    "\t\"\"\"\n",
    "\tplt.figure(figsize=(12,4))\n",
    "\tsns.distplot(X_train['prob'], bins=5)\n",
    "\tsns.distplot(X_val['prob'], bins=5)\n",
    "\tplt.show()\n",
    "\t\"\"\"\n",
    "\t\n",
    "\t#myutils.fnPlotCols(X_train,colNames=['prob'],num_bins=100)\n",
    "\tX_train['prob'].describe()\n",
    "\tX_val['prob'].describe()\n",
    "\teps=np.max(X_train['prob'])\n",
    "\t\n",
    "\t\n",
    "\t\n",
    "\tdef CalculateResults(Phase,X,yactual,eps,epsilons,plotROC=False):\n",
    "\t\tprint()\n",
    "\t\tprint(Phase)\n",
    "\t\tPred=X['prob']<eps\n",
    "\t\tacc_score,rs,f1score,cnf_matrix=myutils.GetScores(yactual,Pred,['Normal','Fraud'])\n",
    "\t\tcm = cnf_matrix.astype('float') / cnf_matrix.sum(axis=1)[:, np.newaxis]\n",
    "\t\tprint(cm)\n",
    "\t\tprint(cm[1,1],cm[0,0])\n",
    "\t\tprint(\"eps : \"+str(eps))\n",
    "\t\t#print(acc_score)\n",
    "\t\tprint(f1score)\n",
    "\t\tprint(cnf_matrix)\n",
    "\t\t\n",
    "\t\t#Accuracy approx Precision of Normal class bcoz of heavily imbalanced dataset \n",
    "\t\tgrandRes.append((crossVal,eps,round(acc_score,2),round(cm[1,1],4),round(cm[0,0],4),muTrain,sigmaTrain,epsilons))\n",
    "\t\tgrandRes2.append((cnf_matrix,f1score))\n",
    "\t\tif plotROC:\n",
    "\t\t\tmyutils.PlotRecallCurve(yactual,Pred)\n",
    "\t\t\t\n",
    "\t\t\t\n",
    "\tplotProbs(X_val,y_val,'prob')\n",
    "\tfscore, ep,epsilons = selectThresholdByCV(X_val['prob'],y_val)\n",
    "\tCalculateResults(\"------Val-----\",X_val,y_val,ep,epsilons)"
   ]
  },
  {
   "cell_type": "code",
   "execution_count": 35,
   "metadata": {},
   "outputs": [],
   "source": [
    "dfRes=pd.DataFrame(grandRes,columns=['CVNum','EPS','PrecNormal','FRecall','NRecall','muTrain','sigTrain','epsilons'])"
   ]
  },
  {
   "cell_type": "code",
   "execution_count": 36,
   "metadata": {},
   "outputs": [
    {
     "data": {
      "text/html": [
       "<div>\n",
       "<style scoped>\n",
       "    .dataframe tbody tr th:only-of-type {\n",
       "        vertical-align: middle;\n",
       "    }\n",
       "\n",
       "    .dataframe tbody tr th {\n",
       "        vertical-align: top;\n",
       "    }\n",
       "\n",
       "    .dataframe thead th {\n",
       "        text-align: right;\n",
       "    }\n",
       "</style>\n",
       "<table border=\"1\" class=\"dataframe\">\n",
       "  <thead>\n",
       "    <tr style=\"text-align: right;\">\n",
       "      <th></th>\n",
       "      <th>CVNum</th>\n",
       "      <th>EPS</th>\n",
       "      <th>PrecNormal</th>\n",
       "      <th>FRecall</th>\n",
       "      <th>NRecall</th>\n",
       "      <th>muTrain</th>\n",
       "      <th>sigTrain</th>\n",
       "      <th>epsilons</th>\n",
       "    </tr>\n",
       "  </thead>\n",
       "  <tbody>\n",
       "    <tr>\n",
       "      <th>0</th>\n",
       "      <td>1</td>\n",
       "      <td>3.7122403550093877e-09</td>\n",
       "      <td>0.82</td>\n",
       "      <td>0.9594</td>\n",
       "      <td>0.5880</td>\n",
       "      <td>V1        2.584933\n",
       "V2        0.957969\n",
       "V3      ...</td>\n",
       "      <td>[[9.009498315547156e-06, -3.916050144635397e-0...</td>\n",
       "      <td>[0.0, 3.7122403550093877e-09, 7.42448071001877...</td>\n",
       "    </tr>\n",
       "    <tr>\n",
       "      <th>1</th>\n",
       "      <td>2</td>\n",
       "      <td>4.731770165552278e-09</td>\n",
       "      <td>0.80</td>\n",
       "      <td>0.9670</td>\n",
       "      <td>0.5240</td>\n",
       "      <td>V1        2.584868\n",
       "V2        1.015497\n",
       "V3      ...</td>\n",
       "      <td>[[9.378256715831177e-06, -0.000205903684351006...</td>\n",
       "      <td>[0.0, 4.731770165552278e-09, 9.463540331104556...</td>\n",
       "    </tr>\n",
       "    <tr>\n",
       "      <th>2</th>\n",
       "      <td>3</td>\n",
       "      <td>4.414144118817737e-09</td>\n",
       "      <td>0.77</td>\n",
       "      <td>0.9721</td>\n",
       "      <td>0.4640</td>\n",
       "      <td>V1        2.584924\n",
       "V2        0.999973\n",
       "V3      ...</td>\n",
       "      <td>[[9.201372980927028e-06, -0.000143222885696889...</td>\n",
       "      <td>[0.0, 4.414144118817737e-09, 8.828288237635474...</td>\n",
       "    </tr>\n",
       "    <tr>\n",
       "      <th>3</th>\n",
       "      <td>4</td>\n",
       "      <td>3.7517982992491554e-09</td>\n",
       "      <td>0.79</td>\n",
       "      <td>0.9594</td>\n",
       "      <td>0.5141</td>\n",
       "      <td>V1        2.584890\n",
       "V2        1.040114\n",
       "V3      ...</td>\n",
       "      <td>[[9.157895350292016e-06, -0.000389650069068365...</td>\n",
       "      <td>[0.0, 3.7517982992491554e-09, 7.50359659849831...</td>\n",
       "    </tr>\n",
       "    <tr>\n",
       "      <th>4</th>\n",
       "      <td>5</td>\n",
       "      <td>1.681097422833287e-08</td>\n",
       "      <td>0.79</td>\n",
       "      <td>0.9645</td>\n",
       "      <td>0.5100</td>\n",
       "      <td>V1        2.585017\n",
       "V2        0.997769\n",
       "V3      ...</td>\n",
       "      <td>[[6.76345420137884e-06, -0.0003676877485370225...</td>\n",
       "      <td>[0.0, 1.681097422833287e-08, 3.362194845666574...</td>\n",
       "    </tr>\n",
       "  </tbody>\n",
       "</table>\n",
       "</div>"
      ],
      "text/plain": [
       "   CVNum                     EPS  PrecNormal  FRecall  NRecall  \\\n",
       "0      1  3.7122403550093877e-09        0.82   0.9594   0.5880   \n",
       "1      2   4.731770165552278e-09        0.80   0.9670   0.5240   \n",
       "2      3   4.414144118817737e-09        0.77   0.9721   0.4640   \n",
       "3      4  3.7517982992491554e-09        0.79   0.9594   0.5141   \n",
       "4      5   1.681097422833287e-08        0.79   0.9645   0.5100   \n",
       "\n",
       "                                             muTrain  \\\n",
       "0  V1        2.584933\n",
       "V2        0.957969\n",
       "V3      ...   \n",
       "1  V1        2.584868\n",
       "V2        1.015497\n",
       "V3      ...   \n",
       "2  V1        2.584924\n",
       "V2        0.999973\n",
       "V3      ...   \n",
       "3  V1        2.584890\n",
       "V2        1.040114\n",
       "V3      ...   \n",
       "4  V1        2.585017\n",
       "V2        0.997769\n",
       "V3      ...   \n",
       "\n",
       "                                            sigTrain  \\\n",
       "0  [[9.009498315547156e-06, -3.916050144635397e-0...   \n",
       "1  [[9.378256715831177e-06, -0.000205903684351006...   \n",
       "2  [[9.201372980927028e-06, -0.000143222885696889...   \n",
       "3  [[9.157895350292016e-06, -0.000389650069068365...   \n",
       "4  [[6.76345420137884e-06, -0.0003676877485370225...   \n",
       "\n",
       "                                            epsilons  \n",
       "0  [0.0, 3.7122403550093877e-09, 7.42448071001877...  \n",
       "1  [0.0, 4.731770165552278e-09, 9.463540331104556...  \n",
       "2  [0.0, 4.414144118817737e-09, 8.828288237635474...  \n",
       "3  [0.0, 3.7517982992491554e-09, 7.50359659849831...  \n",
       "4  [0.0, 1.681097422833287e-08, 3.362194845666574...  "
      ]
     },
     "execution_count": 36,
     "metadata": {},
     "output_type": "execute_result"
    }
   ],
   "source": [
    "dfRes"
   ]
  },
  {
   "cell_type": "markdown",
   "metadata": {},
   "source": [
    "We can choose best mu depending upon tradeoff between Precision and Recall.\n",
    "\n",
    "As this is fraud detection we will choose eps which gives maximum Fraud Recall which is index 2"
   ]
  },
  {
   "cell_type": "code",
   "execution_count": 37,
   "metadata": {},
   "outputs": [
    {
     "name": "stdout",
     "output_type": "stream",
     "text": [
      "4.414144118817737e-09\n",
      "\n",
      "------Test-----\n",
      "[[0.50518734 0.49481266]\n",
      " [0.05       0.95      ]]\n",
      "0.95 0.5051873393991881\n",
      "eps : 4.414144118817737e-09\n",
      "              precision    recall  f1-score   support\n",
      "\n",
      "      Normal       1.00      0.51      0.67    280587\n",
      "       Fraud       0.00      0.95      0.00        20\n",
      "\n",
      "   micro avg       0.51      0.51      0.51    280607\n",
      "   macro avg       0.50      0.73      0.34    280607\n",
      "weighted avg       1.00      0.51      0.67    280607\n",
      "\n",
      "[[141749 138838]\n",
      " [     1     19]]\n"
     ]
    }
   ],
   "source": [
    "\n",
    "\n",
    "bestIndex=2\n",
    "bestMu,bestSigma,eps=dfRes['muTrain'][bestIndex],dfRes['sigTrain'][bestIndex],dfRes['EPS'][bestIndex]\n",
    "\n",
    "print(eps)\n",
    "\n",
    "X_testPro=PreprocessDataset(X_test)\n",
    "X_testPro,dfpxTest,_=getMeanStdProb(X_testPro,bestMu,bestSigma)\n",
    "#for eps in [1.4807699013771287e-17]:\n",
    "#for eps in epsilons:\t\n",
    "\t\t#CalculateResults(\"------Train-----\",X_train,y_train,eps)\n",
    "CalculateResults(\"------Test-----\",X_testPro,y_test,eps,True)"
   ]
  },
  {
   "cell_type": "code",
   "execution_count": null,
   "metadata": {},
   "outputs": [],
   "source": [
    "## This method although gives very high recall, "
   ]
  },
  {
   "cell_type": "code",
   "execution_count": null,
   "metadata": {},
   "outputs": [],
   "source": []
  }
 ],
 "metadata": {
  "kernelspec": {
   "display_name": "Python 3",
   "language": "python",
   "name": "python3"
  },
  "language_info": {
   "codemirror_mode": {
    "name": "ipython",
    "version": 3
   },
   "file_extension": ".py",
   "mimetype": "text/x-python",
   "name": "python",
   "nbconvert_exporter": "python",
   "pygments_lexer": "ipython3",
   "version": "3.6.1"
  },
  "varInspector": {
   "cols": {
    "lenName": 16,
    "lenType": 16,
    "lenVar": 40
   },
   "kernels_config": {
    "python": {
     "delete_cmd_postfix": "",
     "delete_cmd_prefix": "del ",
     "library": "var_list.py",
     "varRefreshCmd": "print(var_dic_list())"
    },
    "r": {
     "delete_cmd_postfix": ") ",
     "delete_cmd_prefix": "rm(",
     "library": "var_list.r",
     "varRefreshCmd": "cat(var_dic_list()) "
    }
   },
   "oldHeight": 122,
   "position": {
    "height": "40px",
    "left": "1096px",
    "right": "20px",
    "top": "120px",
    "width": "250px"
   },
   "types_to_exclude": [
    "module",
    "function",
    "builtin_function_or_method",
    "instance",
    "_Feature"
   ],
   "varInspector_section_display": "none",
   "window_display": true
  }
 },
 "nbformat": 4,
 "nbformat_minor": 2
}
